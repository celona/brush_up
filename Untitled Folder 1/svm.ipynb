{
 "cells": [
  {
   "cell_type": "code",
   "execution_count": 10,
   "id": "65f5fac2",
   "metadata": {},
   "outputs": [],
   "source": [
    "from sklearn import datasets\n",
    "import numpy as np\n",
    "from sklearn.model_selection import train_test_split\n",
    "from sklearn import svm    \n",
    "from sklearn.metrics import accuracy_score"
   ]
  },
  {
   "cell_type": "code",
   "execution_count": 2,
   "id": "b8d1bb8f",
   "metadata": {},
   "outputs": [],
   "source": [
    "iris = datasets.load_iris()\n",
    "\n",
    "x = iris.data\n",
    "y = iris.target\n"
   ]
  },
  {
   "cell_type": "code",
   "execution_count": 3,
   "id": "7b45adbe",
   "metadata": {},
   "outputs": [
    {
     "name": "stdout",
     "output_type": "stream",
     "text": [
      "(150, 4) (150,)\n"
     ]
    }
   ],
   "source": [
    "print(x.shape,y.shape)"
   ]
  },
  {
   "cell_type": "code",
   "execution_count": 4,
   "id": "619ec50c",
   "metadata": {},
   "outputs": [],
   "source": [
    "classes = ['Iris Setosa', 'Iris Versicolor', 'Iris Virginica']"
   ]
  },
  {
   "cell_type": "code",
   "execution_count": 6,
   "id": "ad0d775b",
   "metadata": {},
   "outputs": [],
   "source": [
    "X_train, X_test, Y_train, Y_test = train_test_split(x,y,test_size=0.2)\n"
   ]
  },
  {
   "cell_type": "code",
   "execution_count": 7,
   "id": "403cfa3e",
   "metadata": {},
   "outputs": [
    {
     "data": {
      "text/plain": [
       "SVC()"
      ]
     },
     "execution_count": 7,
     "metadata": {},
     "output_type": "execute_result"
    }
   ],
   "source": [
    "model = svm.SVC()\n",
    "model.fit(X_train,Y_train)"
   ]
  },
  {
   "cell_type": "code",
   "execution_count": 8,
   "id": "55241177",
   "metadata": {},
   "outputs": [
    {
     "name": "stdout",
     "output_type": "stream",
     "text": [
      "SVC()\n"
     ]
    }
   ],
   "source": [
    "print(model)"
   ]
  },
  {
   "cell_type": "code",
   "execution_count": 9,
   "id": "f5e0a8d9",
   "metadata": {},
   "outputs": [
    {
     "name": "stdout",
     "output_type": "stream",
     "text": [
      "(120, 4)\n",
      "(30, 4)\n",
      "(120,)\n",
      "(30,)\n"
     ]
    }
   ],
   "source": [
    "print(X_train.shape)\n",
    "print(X_test.shape)\n",
    "print(Y_train.shape)\n",
    "print(Y_test.shape)"
   ]
  },
  {
   "cell_type": "code",
   "execution_count": 11,
   "id": "b16182ad",
   "metadata": {},
   "outputs": [
    {
     "name": "stdout",
     "output_type": "stream",
     "text": [
      "Predictions: [2 1 1 0 2 1 0 0 0 1 0 0 1 2 0 1 1 2 1 0 2 2 2 1 1 2 0 0 0 0]\n",
      "Actual: [2 1 2 0 2 1 0 0 0 2 0 0 1 2 0 1 1 2 1 0 2 2 2 1 1 2 0 0 0 0]\n",
      "Accuracy: 0.9333333333333333\n"
     ]
    }
   ],
   "source": [
    "predictions = model.predict(X_test)\n",
    "acc = accuracy_score(Y_test, predictions)\n",
    "\n",
    "print(\"Predictions:\",predictions)\n",
    "print(\"Actual:\",Y_test)\n",
    "print(\"Accuracy:\",acc)\n",
    "\n"
   ]
  },
  {
   "cell_type": "code",
   "execution_count": 12,
   "id": "979b99f3",
   "metadata": {},
   "outputs": [
    {
     "name": "stdout",
     "output_type": "stream",
     "text": [
      "Iris Virginica\n",
      "Iris Versicolor\n",
      "Iris Versicolor\n",
      "Iris Setosa\n",
      "Iris Virginica\n",
      "Iris Versicolor\n",
      "Iris Setosa\n",
      "Iris Setosa\n",
      "Iris Setosa\n",
      "Iris Versicolor\n",
      "Iris Setosa\n",
      "Iris Setosa\n",
      "Iris Versicolor\n",
      "Iris Virginica\n",
      "Iris Setosa\n",
      "Iris Versicolor\n",
      "Iris Versicolor\n",
      "Iris Virginica\n",
      "Iris Versicolor\n",
      "Iris Setosa\n",
      "Iris Virginica\n",
      "Iris Virginica\n",
      "Iris Virginica\n",
      "Iris Versicolor\n",
      "Iris Versicolor\n",
      "Iris Virginica\n",
      "Iris Setosa\n",
      "Iris Setosa\n",
      "Iris Setosa\n",
      "Iris Setosa\n"
     ]
    }
   ],
   "source": [
    "for i in range(len(predictions)):\n",
    "    print(classes[predictions[i]])"
   ]
  },
  {
   "cell_type": "code",
   "execution_count": null,
   "id": "d74860a2",
   "metadata": {},
   "outputs": [],
   "source": []
  }
 ],
 "metadata": {
  "kernelspec": {
   "display_name": "Python 3",
   "language": "python",
   "name": "python3"
  },
  "language_info": {
   "codemirror_mode": {
    "name": "ipython",
    "version": 3
   },
   "file_extension": ".py",
   "mimetype": "text/x-python",
   "name": "python",
   "nbconvert_exporter": "python",
   "pygments_lexer": "ipython3",
   "version": "3.8.8"
  }
 },
 "nbformat": 4,
 "nbformat_minor": 5
}
