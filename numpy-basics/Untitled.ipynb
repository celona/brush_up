{
 "cells": [
  {
   "cell_type": "code",
   "execution_count": 10,
   "id": "a1374b22",
   "metadata": {},
   "outputs": [
    {
     "name": "stdout",
     "output_type": "stream",
     "text": [
      "[[    140354463165408     140354463165408      18081812316388]\n",
      " [-976718169184964096       1092834295808    6317793813209714]\n",
      " [8214565720935235584      38972533243925  608548899666227712]\n",
      " [        31977373696   29680216880196722 8214565720952012800]]\n"
     ]
    }
   ],
   "source": [
    "import numpy as np \n",
    "#Array Creation - Empty, Zeroes and Ones\n",
    "# an array with 4 rows and 3 columns. elements in an array will show random values because they are not initialized:\n",
    "x = np.empty([4,3], dtype = int) \n",
    "print (x)"
   ]
  },
  {
   "cell_type": "code",
   "execution_count": 11,
   "id": "43cf4889",
   "metadata": {},
   "outputs": [
    {
     "name": "stdout",
     "output_type": "stream",
     "text": [
      "[[0 0 0]\n",
      " [0 0 0]\n",
      " [0 0 0]]\n"
     ]
    }
   ],
   "source": [
    "arr = np.zeros((3,3), dtype = int)  \n",
    "print(arr)"
   ]
  },
  {
   "cell_type": "code",
   "execution_count": 12,
   "id": "093c122d",
   "metadata": {},
   "outputs": [
    {
     "name": "stdout",
     "output_type": "stream",
     "text": [
      "[[1 1 1]\n",
      " [1 1 1]\n",
      " [1 1 1]]\n"
     ]
    }
   ],
   "source": [
    "arr = np.ones((3,3), dtype = int)  \n",
    "print(arr)  "
   ]
  },
  {
   "cell_type": "code",
   "execution_count": 13,
   "id": "763afb52",
   "metadata": {},
   "outputs": [
    {
     "name": "stdout",
     "output_type": "stream",
     "text": [
      "<class 'numpy.ndarray'>\n",
      "[34  7  8 78]\n"
     ]
    }
   ],
   "source": [
    "#Python NumPy Array Creation using existing data\n",
    "\n",
    "# python tuple\n",
    "l = (34,7,8,78)\n",
    "# creating array using the tuple\n",
    "a = np.asarray(l)\n",
    "\n",
    "print(type(a))  \n",
    "print(a)  "
   ]
  },
  {
   "cell_type": "code",
   "execution_count": 47,
   "id": "0f4d1cf7",
   "metadata": {},
   "outputs": [
    {
     "name": "stdout",
     "output_type": "stream",
     "text": [
      "[list([1, 2, 3]) list([8, 9]) list([5, 7])]\n",
      "<class 'numpy.ndarray'>\n",
      "object\n",
      "(3,)\n"
     ]
    }
   ],
   "source": [
    "# python list\n",
    "l = [[1,2,3],[8,9],[5,7]] \n",
    "# creating array from list \n",
    "b = np.asarray(l)\n",
    "print(b)\n",
    "print(type(b))\n",
    "print(b.dtype)  \n",
    "print(b.shape)"
   ]
  },
  {
   "cell_type": "code",
   "execution_count": 45,
   "id": "97f11f26",
   "metadata": {},
   "outputs": [
    {
     "name": "stdout",
     "output_type": "stream",
     "text": [
      "<class 'bytes'>\n",
      "[b'S' b't' b'u' b'd' b'y' b'T' b'o' b'n' b'i' b'g' b'h' b't' b'!']\n",
      "<class 'numpy.ndarray'>\n"
     ]
    }
   ],
   "source": [
    "# intialize bytes\n",
    "l = b'StudyTonight!'  \n",
    "print(type(l))  \n",
    "\n",
    "a = np.frombuffer(l, dtype = \"S1\")  \n",
    "print(a)  \n",
    "print(type(a))  "
   ]
  },
  {
   "cell_type": "code",
   "execution_count": null,
   "id": "4457a107",
   "metadata": {},
   "outputs": [],
   "source": []
  },
  {
   "cell_type": "code",
   "execution_count": null,
   "id": "c18556ec",
   "metadata": {},
   "outputs": [],
   "source": []
  }
 ],
 "metadata": {
  "kernelspec": {
   "display_name": "Python 3",
   "language": "python",
   "name": "python3"
  },
  "language_info": {
   "codemirror_mode": {
    "name": "ipython",
    "version": 3
   },
   "file_extension": ".py",
   "mimetype": "text/x-python",
   "name": "python",
   "nbconvert_exporter": "python",
   "pygments_lexer": "ipython3",
   "version": "3.8.8"
  }
 },
 "nbformat": 4,
 "nbformat_minor": 5
}
