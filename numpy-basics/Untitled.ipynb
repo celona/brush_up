{
 "cells": [
  {
   "cell_type": "code",
   "execution_count": 2,
   "id": "c25bdc63",
   "metadata": {},
   "outputs": [
    {
     "name": "stdout",
     "output_type": "stream",
     "text": [
      "The Output is : [ 2  4  6  8 10]\n",
      "The Output is : [ 2  3  4  5  6  7  8  9 10 11]\n",
      "The Output is : [ 0  1  2  3  4  5  6  7  8  9 10 11]\n",
      "The output is:\n",
      "[-10  -9  -8  -7  -6  -5  -4  -3  -2]\n"
     ]
    }
   ],
   "source": [
    "import numpy as np\n",
    "\n",
    "a=np.arange(start=2, stop=12, step=2)\n",
    "print(\"The Output is :\",a)\n",
    "\n",
    "a=np.arange(start=2, stop=12)\n",
    "print(\"The Output is :\",a)\n",
    "\n",
    "\n",
    "a=np.arange(12)\n",
    "print(\"The Output is :\",a)\n",
    "\n",
    "a=np.arange(-10, -1)\n",
    "print(\"The output is:\")\n",
    "print(a)\n",
    "\n"
   ]
  },
  {
   "cell_type": "code",
   "execution_count": 3,
   "id": "19355f52",
   "metadata": {},
   "outputs": [
    {
     "name": "stdout",
     "output_type": "stream",
     "text": [
      "The Original array : \n",
      " [ 0  1  2  3  4  5  6  7  8  9 10 11]\n",
      "\n",
      " The reshaped array with 2 rows and 6 columns : \n",
      " [[ 0  1  2  3  4  5]\n",
      " [ 6  7  8  9 10 11]]\n",
      "\n",
      " The reshaped array with 6 rows and 2 columns : \n",
      " [[ 0  1]\n",
      " [ 2  3]\n",
      " [ 4  5]\n",
      " [ 6  7]\n",
      " [ 8  9]\n",
      " [10 11]]\n",
      "\n",
      "After reshaping the original array to 3D : \n",
      " [[[ 0  1]\n",
      "  [ 2  3]\n",
      "  [ 4  5]]\n",
      "\n",
      " [[ 6  7]\n",
      "  [ 8  9]\n",
      "  [10 11]]]\n"
     ]
    }
   ],
   "source": [
    "import numpy as np\n",
    "\n",
    "a = np.arange(12) \n",
    "print(\"The Original array : \\n\", a) \n",
    "\n",
    "# shaping the array with 2 rows and 4 columns \n",
    "a1= np.arange(12).reshape(2, 6) \n",
    "print(\"\\n The reshaped array with 2 rows and 6 columns : \\n\", a1) \n",
    "\n",
    "# shaping the array with 4 rows and 2 columns \n",
    "a2 = np.arange(12).reshape(6,2) \n",
    "print(\"\\n The reshaped array with 6 rows and 2 columns : \\n\", a2) \n",
    "\n",
    "# Construction of a 3D array \n",
    "a3 = np.arange(12).reshape(2, 3, 2) \n",
    "print(\"\\nAfter reshaping the original array to 3D : \\n\", a3) \n"
   ]
  },
  {
   "cell_type": "code",
   "execution_count": 4,
   "id": "2173e27d",
   "metadata": {},
   "outputs": [
    {
     "name": "stdout",
     "output_type": "stream",
     "text": [
      "The array is :\n",
      " [ 0  1  2  3  4  5  6  7  8  9 10 11]\n",
      "Reshaping the original array using F-like index ordering\n",
      "[[ 0  4  8]\n",
      " [ 1  5  9]\n",
      " [ 2  6 10]\n",
      " [ 3  7 11]]\n"
     ]
    }
   ],
   "source": [
    "import numpy as np  \n",
    "\n",
    "x = np.arange(12)  \n",
    "print(\"The array is :\\n\",x)\n",
    "y = np.reshape(x, (4, 3), order='F')  \n",
    "print(\"Reshaping the original array using F-like index ordering\")\n",
    "print(y)"
   ]
  },
  {
   "cell_type": "code",
   "execution_count": null,
   "id": "02d8bcd3",
   "metadata": {},
   "outputs": [],
   "source": []
  }
 ],
 "metadata": {
  "kernelspec": {
   "display_name": "Python 3",
   "language": "python",
   "name": "python3"
  },
  "language_info": {
   "codemirror_mode": {
    "name": "ipython",
    "version": 3
   },
   "file_extension": ".py",
   "mimetype": "text/x-python",
   "name": "python",
   "nbconvert_exporter": "python",
   "pygments_lexer": "ipython3",
   "version": "3.8.8"
  }
 },
 "nbformat": 4,
 "nbformat_minor": 5
}
