{
 "cells": [
  {
   "cell_type": "code",
   "execution_count": 1,
   "id": "43d9d7a8",
   "metadata": {},
   "outputs": [
    {
     "name": "stdout",
     "output_type": "stream",
     "text": [
      "[ 3  9 11 13]\n"
     ]
    }
   ],
   "source": [
    "import numpy as np\n",
    "\n",
    "a = np.array([1,2,3,4])\n",
    "b = np.array([2,7,8,9])\n",
    "c = a+b;\n",
    "print(c)"
   ]
  },
  {
   "cell_type": "code",
   "execution_count": 2,
   "id": "61baf5a9",
   "metadata": {},
   "outputs": [
    {
     "ename": "ValueError",
     "evalue": "operands could not be broadcast together with shapes (4,) (7,) ",
     "output_type": "error",
     "traceback": [
      "\u001b[0;31m---------------------------------------------------------------------------\u001b[0m",
      "\u001b[0;31mValueError\u001b[0m                                Traceback (most recent call last)",
      "\u001b[0;32m<ipython-input-2-053fe17a2c61>\u001b[0m in \u001b[0;36m<module>\u001b[0;34m\u001b[0m\n\u001b[1;32m      1\u001b[0m \u001b[0ma\u001b[0m \u001b[0;34m=\u001b[0m \u001b[0mnp\u001b[0m\u001b[0;34m.\u001b[0m\u001b[0marray\u001b[0m\u001b[0;34m(\u001b[0m\u001b[0;34m[\u001b[0m\u001b[0;36m4\u001b[0m\u001b[0;34m,\u001b[0m\u001b[0;36m5\u001b[0m\u001b[0;34m,\u001b[0m\u001b[0;36m6\u001b[0m\u001b[0;34m,\u001b[0m\u001b[0;36m7\u001b[0m\u001b[0;34m]\u001b[0m\u001b[0;34m)\u001b[0m\u001b[0;34m\u001b[0m\u001b[0;34m\u001b[0m\u001b[0m\n\u001b[1;32m      2\u001b[0m \u001b[0mb\u001b[0m \u001b[0;34m=\u001b[0m \u001b[0mnp\u001b[0m\u001b[0;34m.\u001b[0m\u001b[0marray\u001b[0m\u001b[0;34m(\u001b[0m\u001b[0;34m[\u001b[0m\u001b[0;36m1\u001b[0m\u001b[0;34m,\u001b[0m\u001b[0;36m3\u001b[0m\u001b[0;34m,\u001b[0m\u001b[0;36m5\u001b[0m\u001b[0;34m,\u001b[0m\u001b[0;36m7\u001b[0m\u001b[0;34m,\u001b[0m\u001b[0;36m9\u001b[0m\u001b[0;34m,\u001b[0m\u001b[0;36m11\u001b[0m\u001b[0;34m,\u001b[0m\u001b[0;36m14\u001b[0m\u001b[0;34m]\u001b[0m\u001b[0;34m)\u001b[0m\u001b[0;34m\u001b[0m\u001b[0;34m\u001b[0m\u001b[0m\n\u001b[0;32m----> 3\u001b[0;31m \u001b[0mc\u001b[0m \u001b[0;34m=\u001b[0m \u001b[0ma\u001b[0m\u001b[0;34m+\u001b[0m\u001b[0mb\u001b[0m\u001b[0;34m;\u001b[0m\u001b[0;34m\u001b[0m\u001b[0;34m\u001b[0m\u001b[0m\n\u001b[0m\u001b[1;32m      4\u001b[0m \u001b[0mprint\u001b[0m\u001b[0;34m(\u001b[0m\u001b[0mc\u001b[0m\u001b[0;34m)\u001b[0m\u001b[0;34m\u001b[0m\u001b[0;34m\u001b[0m\u001b[0m\n",
      "\u001b[0;31mValueError\u001b[0m: operands could not be broadcast together with shapes (4,) (7,) "
     ]
    }
   ],
   "source": [
    "a = np.array([4,5,6,7])  \n",
    "b = np.array([1,3,5,7,9,11,14])  \n",
    "c = a+b;  \n",
    "print(c) "
   ]
  },
  {
   "cell_type": "code",
   "execution_count": 3,
   "id": "11e1492f",
   "metadata": {},
   "outputs": [
    {
     "name": "stdout",
     "output_type": "stream",
     "text": [
      "\n",
      " The array a is :\n",
      "[[ 1  2  3  4]\n",
      " [11 10  8  6]\n",
      " [10 20 39  3]]\n",
      "\n",
      " The array b is :\n",
      "[ 4  8 10 12]\n",
      "\n",
      " After addition of array a and b resultant array is:\n",
      "[[ 5 10 13 16]\n",
      " [15 18 18 18]\n",
      " [14 28 49 15]]\n"
     ]
    }
   ],
   "source": [
    "import numpy as np  \n",
    "\n",
    "a = np.array([[1,2,3,4],[11,10,8,6],[10,20,39,3]])  \n",
    "b = np.array([4,8,10,12])\n",
    "  \n",
    "print(\"\\n The array a is :\")  \n",
    "print(a)  \n",
    "print(\"\\n The array b is :\")  \n",
    "print(b)  \n",
    "\n",
    "print(\"\\n After addition of array a and b resultant array is:\")  \n",
    "c = a + b;  \n",
    "print(c)  "
   ]
  },
  {
   "cell_type": "code",
   "execution_count": 4,
   "id": "200034b0",
   "metadata": {},
   "outputs": [],
   "source": [
    "#Rules for NumPy Broadcasting\n",
    "\n",
    "#    The concept of broadcasting in NumPy is only possible if the following cases are satisfied:\n",
    "\n",
    "#         1.The smaller dimension ndarray can be appended with '1' in its shape.\n",
    "\n",
    "#         2.The size of each output dimension should be the maximum of the input sizes in the dimension.\n",
    "\n",
    "#         3.It is important to note that input can be used in the calculation only if its size in a particular dimension matches the output size or its value is exactly 1.\n",
    "\n",
    "#         4.Suppose the input size is 1, then the first data entry should be used for the calculation along the dimension.\n",
    "\n",
    "#     The concept of broadcasting in NumPy can be applied to the arrays only if the following rules are satisfied.\n",
    "\n",
    "#         1.All the arrays in the input must have the same shape.\n",
    "\n",
    "#         2.Arrays having the same number of dimensions, and the length of each dimension is either a common length or 1.\n",
    "\n",
    "#         3.Those arrays with the fewer dimension can be appended with '1' in its shape.\n"
   ]
  },
  {
   "cell_type": "code",
   "execution_count": null,
   "id": "00a641f2",
   "metadata": {},
   "outputs": [],
   "source": []
  },
  {
   "cell_type": "code",
   "execution_count": null,
   "id": "86b20826",
   "metadata": {},
   "outputs": [],
   "source": []
  }
 ],
 "metadata": {
  "kernelspec": {
   "display_name": "Python 3",
   "language": "python",
   "name": "python3"
  },
  "language_info": {
   "codemirror_mode": {
    "name": "ipython",
    "version": 3
   },
   "file_extension": ".py",
   "mimetype": "text/x-python",
   "name": "python",
   "nbconvert_exporter": "python",
   "pygments_lexer": "ipython3",
   "version": "3.8.8"
  }
 },
 "nbformat": 4,
 "nbformat_minor": 5
}
