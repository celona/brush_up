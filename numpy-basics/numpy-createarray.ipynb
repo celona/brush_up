{
 "cells": [
  {
   "cell_type": "code",
   "execution_count": 2,
   "id": "a1374b22",
   "metadata": {},
   "outputs": [
    {
     "name": "stdout",
     "output_type": "stream",
     "text": [
      "[[    140327880530912     140327880530912                   0]\n",
      " [                  0     310449269446508 1976261564417966948]\n",
      " [1181072730309598042 1397245512428821356     312648326256492]\n",
      " [2120376752527377252 1541360700499238234     314847383066476]]\n"
     ]
    }
   ],
   "source": [
    "import numpy as np \n",
    "#Array Creation - Empty, Zeroes and Ones\n",
    "# an array with 4 rows and 3 columns. elements in an array will show random values because they are not initialized:\n",
    "x = np.empty([4,3], dtype = int) \n",
    "print (x)"
   ]
  },
  {
   "cell_type": "code",
   "execution_count": 11,
   "id": "43cf4889",
   "metadata": {},
   "outputs": [
    {
     "name": "stdout",
     "output_type": "stream",
     "text": [
      "[[0 0 0]\n",
      " [0 0 0]\n",
      " [0 0 0]]\n"
     ]
    }
   ],
   "source": [
    "arr = np.zeros((3,3), dtype = int)  \n",
    "print(arr)"
   ]
  },
  {
   "cell_type": "code",
   "execution_count": 12,
   "id": "093c122d",
   "metadata": {},
   "outputs": [
    {
     "name": "stdout",
     "output_type": "stream",
     "text": [
      "[[1 1 1]\n",
      " [1 1 1]\n",
      " [1 1 1]]\n"
     ]
    }
   ],
   "source": [
    "arr = np.ones((3,3), dtype = int)  \n",
    "print(arr)  "
   ]
  },
  {
   "cell_type": "code",
   "execution_count": 13,
   "id": "763afb52",
   "metadata": {},
   "outputs": [
    {
     "name": "stdout",
     "output_type": "stream",
     "text": [
      "<class 'numpy.ndarray'>\n",
      "[34  7  8 78]\n"
     ]
    }
   ],
   "source": [
    "#Python NumPy Array Creation using existing data\n",
    "\n",
    "# python tuple\n",
    "l = (34,7,8,78)\n",
    "# creating array using the tuple\n",
    "a = np.asarray(l)\n",
    "\n",
    "print(type(a))  \n",
    "print(a)  "
   ]
  },
  {
   "cell_type": "code",
   "execution_count": 47,
   "id": "0f4d1cf7",
   "metadata": {},
   "outputs": [
    {
     "name": "stdout",
     "output_type": "stream",
     "text": [
      "[list([1, 2, 3]) list([8, 9]) list([5, 7])]\n",
      "<class 'numpy.ndarray'>\n",
      "object\n",
      "(3,)\n"
     ]
    }
   ],
   "source": [
    "# python list\n",
    "l = [[1,2,3],[8,9],[5,7]] \n",
    "# creating array from list \n",
    "b = np.asarray(l)\n",
    "print(b)\n",
    "print(type(b))\n",
    "print(b.dtype)  \n",
    "print(b.shape)"
   ]
  },
  {
   "cell_type": "code",
   "execution_count": 45,
   "id": "97f11f26",
   "metadata": {},
   "outputs": [
    {
     "name": "stdout",
     "output_type": "stream",
     "text": [
      "<class 'bytes'>\n",
      "[b'S' b't' b'u' b'd' b'y' b'T' b'o' b'n' b'i' b'g' b'h' b't' b'!']\n",
      "<class 'numpy.ndarray'>\n"
     ]
    }
   ],
   "source": [
    "# intialize bytes\n",
    "l = b'StudyTonight!'  \n",
    "print(type(l))  \n",
    "\n",
    "a = np.frombuffer(l, dtype = \"S1\")  \n",
    "print(a)  \n",
    "print(type(a))  "
   ]
  },
  {
   "cell_type": "code",
   "execution_count": 3,
   "id": "4457a107",
   "metadata": {},
   "outputs": [
    {
     "name": "stdout",
     "output_type": "stream",
     "text": [
      "[ 2.  4.  6. 20.]\n",
      "<class 'numpy.ndarray'>\n"
     ]
    }
   ],
   "source": [
    "# using python tuple\n",
    "tup = (2,4,6,20)  \n",
    "# create an iterator\n",
    "it = iter(tup)  \n",
    "\n",
    "# create ndarray using the iterator\n",
    "x = np.fromiter(it, dtype = float)  \n",
    "\n",
    "print(x)  \n",
    "print(type(x)) "
   ]
  },
  {
   "cell_type": "code",
   "execution_count": 4,
   "id": "c18556ec",
   "metadata": {},
   "outputs": [
    {
     "name": "stdout",
     "output_type": "stream",
     "text": [
      "[ 0  1  2  3  4  5  6  7  8  9 10 11 12 13 14]\n"
     ]
    }
   ],
   "source": [
    "x = np.arange(15) \n",
    "print (x)"
   ]
  },
  {
   "cell_type": "code",
   "execution_count": 5,
   "id": "7ff998ff",
   "metadata": {},
   "outputs": [
    {
     "name": "stdout",
     "output_type": "stream",
     "text": [
      "[0.+0.j 2.+0.j 4.+0.j 6.+0.j 8.+0.j]\n"
     ]
    }
   ],
   "source": [
    "arr = np.arange(0,10,2,complex)  \n",
    "print(arr) "
   ]
  },
  {
   "cell_type": "code",
   "execution_count": 6,
   "id": "8e44b49b",
   "metadata": {},
   "outputs": [
    {
     "name": "stdout",
     "output_type": "stream",
     "text": [
      "The array in this range is  [20.  22.5 25.  27.5 30. ]\n"
     ]
    }
   ],
   "source": [
    "# start=20, end=30, num=5\n",
    "arr = np.linspace(20, 30, 5)  \n",
    "print(\"The array in this range is \",arr)  "
   ]
  },
  {
   "cell_type": "code",
   "execution_count": 7,
   "id": "d77a6424",
   "metadata": {},
   "outputs": [
    {
     "name": "stdout",
     "output_type": "stream",
     "text": [
      "(array([2. , 2.5, 3. , 3.5, 4. ]), 0.5)\n"
     ]
    }
   ],
   "source": [
    "\n",
    "x = np.linspace(2,4,5, retstep = True) \n",
    "print (x)"
   ]
  },
  {
   "cell_type": "code",
   "execution_count": 8,
   "id": "e0eb0910",
   "metadata": {},
   "outputs": [
    {
     "name": "stdout",
     "output_type": "stream",
     "text": [
      "The array will be [1.00000000e+20 3.16227766e+22 1.00000000e+25 3.16227766e+27\n",
      " 1.00000000e+30]\n"
     ]
    }
   ],
   "source": [
    "a = np.logspace(20, 30, num = 5, endpoint = True)  \n",
    "print(\"The array will be\",a)  "
   ]
  },
  {
   "cell_type": "code",
   "execution_count": 9,
   "id": "16ae506f",
   "metadata": {},
   "outputs": [
    {
     "name": "stdout",
     "output_type": "stream",
     "text": [
      "The array is:  [2.43000000e+02 2.33138563e+05 2.23677324e+08 2.14600041e+11\n",
      " 2.05891132e+14]\n"
     ]
    }
   ],
   "source": [
    "arr = np.logspace(5, 30, num = 5,base = 3, endpoint = True)  \n",
    "print(\"The array is: \",arr) "
   ]
  },
  {
   "cell_type": "code",
   "execution_count": null,
   "id": "c420f95f",
   "metadata": {},
   "outputs": [],
   "source": []
  }
 ],
 "metadata": {
  "kernelspec": {
   "display_name": "Python 3",
   "language": "python",
   "name": "python3"
  },
  "language_info": {
   "codemirror_mode": {
    "name": "ipython",
    "version": 3
   },
   "file_extension": ".py",
   "mimetype": "text/x-python",
   "name": "python",
   "nbconvert_exporter": "python",
   "pygments_lexer": "ipython3",
   "version": "3.8.8"
  }
 },
 "nbformat": 4,
 "nbformat_minor": 5
}
