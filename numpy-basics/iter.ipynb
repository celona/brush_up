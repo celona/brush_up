{
 "cells": [
  {
   "cell_type": "code",
   "execution_count": 8,
   "id": "c18aef3d",
   "metadata": {},
   "outputs": [
    {
     "data": {
      "text/plain": [
       "array([ 0,  5, 10, 15, 20, 25, 30, 35])"
      ]
     },
     "execution_count": 8,
     "metadata": {},
     "output_type": "execute_result"
    }
   ],
   "source": [
    "import numpy as np\n",
    "\n",
    "a = np.arange(0,40,5)\n",
    "a"
   ]
  },
  {
   "cell_type": "code",
   "execution_count": 13,
   "id": "9e9c3780",
   "metadata": {},
   "outputs": [],
   "source": [
    "np.shape(a)\n",
    "a = a.reshape(2, 4)"
   ]
  },
  {
   "cell_type": "code",
   "execution_count": 21,
   "id": "5f2bd7aa",
   "metadata": {},
   "outputs": [
    {
     "name": "stdout",
     "output_type": "stream",
     "text": [
      "Iterating over the array:\n",
      "0 5 10 15 20 25 30 35 \n",
      "Iterating over the array:\n",
      "0 5 10 15 20 25 30 35 "
     ]
    }
   ],
   "source": [
    "print(\"Iterating over the array:\")   \n",
    "for x in np.nditer(a):  \n",
    "    print(x, end=' ') \n",
    "a = a.T\n",
    "print(\"\\nIterating over the array:\")   \n",
    "for x in np.nditer(a):  \n",
    "    print(x, end=' ') "
   ]
  },
  {
   "cell_type": "code",
   "execution_count": 15,
   "id": "ade91f84",
   "metadata": {},
   "outputs": [
    {
     "name": "stdout",
     "output_type": "stream",
     "text": [
      "The Original array is:\n",
      "[ 0  5 10 15 20 25 30 35]\n",
      "\n",
      "\n",
      "The Modified array is:\n",
      "0\n",
      "5\n",
      "10\n",
      "15\n",
      "20\n",
      "25\n",
      "30\n",
      "35\n"
     ]
    }
   ],
   "source": [
    "a = np.arange(0,40,5)\n",
    "\n",
    "print (\"The Original array is:\")\n",
    "print (a)\n",
    "print ('\\n')\n",
    "\n",
    "# showing elements of array one by one\n",
    "print (\"The Modified array is:\")\n",
    "for x in np.nditer(a):\n",
    "    print(x)"
   ]
  },
  {
   "cell_type": "code",
   "execution_count": 2,
   "id": "587ccacc",
   "metadata": {},
   "outputs": [
    {
     "name": "stdout",
     "output_type": "stream",
     "text": [
      "\n",
      "Printing the array:\n",
      "\n",
      "[[ 1  2  3  4]\n",
      " [ 8  9  5  6]\n",
      " [10 20 29 31]]\n",
      "\n",
      "Printing the transpose of the array:\n",
      "\n",
      "[[ 1  8 10]\n",
      " [ 2  9 20]\n",
      " [ 3  5 29]\n",
      " [ 4  6 31]]\n",
      "\n",
      "Iterating over the transposed array\n",
      "\n",
      "1 2 3 4 8 9 5 6 10 20 29 31 \n",
      "Sorting the transposed array in C-style:\n",
      "\n",
      "[[ 1  8 10]\n",
      " [ 2  9 20]\n",
      " [ 3  5 29]\n",
      " [ 4  6 31]]\n",
      "\n",
      "Iterating over the C-style array:\n",
      "\n",
      "1 8 10 2 9 20 3 5 29 4 6 31 \n",
      "\n",
      "[[ 1  8 10]\n",
      " [ 2  9 20]\n",
      " [ 3  5 29]\n",
      " [ 4  6 31]]\n",
      "\n",
      "Iterating over the F-style array:\n",
      "\n",
      "1 2 3 4 8 9 5 6 10 20 29 31 "
     ]
    }
   ],
   "source": [
    "import numpy as np  \n",
    "a = np.array([[1,2,3,4],[8,9,5,6],[10,20,29,31]])  \n",
    "print(\"\\nPrinting the array:\\n\")  \n",
    "print(a)  \n",
    "print(\"\\nPrinting the transpose of the array:\\n\")  \n",
    "at = a.T  \n",
    "print(at)  \n",
    "print(\"\\nIterating over the transposed array\\n\")  \n",
    "  \n",
    "for x in np.nditer(at):  \n",
    "    print(x, end= ' ')  \n",
    "print(\"\\nSorting the transposed array in C-style:\\n\")  \n",
    "c = at.copy(order = 'C')  \n",
    "print(c)  \n",
    "  \n",
    "print(\"\\nIterating over the C-style array:\\n\")  \n",
    "for x in np.nditer(c):  \n",
    "    print(x, end=' ')  \n",
    "      \n",
    "d = at.copy(order = 'F')  \n",
    "print(\"\\n\")\n",
    "print(d) \n",
    "\n",
    "print(\"\\nIterating over the F-style array:\\n\")  \n",
    "for x in np.nditer(d):  \n",
    "    print(x, end=' ')  "
   ]
  },
  {
   "cell_type": "code",
   "execution_count": 4,
   "id": "f2908a91",
   "metadata": {},
   "outputs": [
    {
     "name": "stdout",
     "output_type": "stream",
     "text": [
      "The First array :\n",
      "[[ 0  5 10 15]\n",
      " [20 25 30 35]\n",
      " [40 45 50 55]]\n",
      "\n",
      "\n",
      "The Second array is\n",
      "[1 2 3 4]\n",
      "\n",
      "\n",
      "The Modified array is\n",
      "0:1\n",
      "0 : 1\n",
      "5:2\n",
      "5 : 2\n",
      "10:3\n",
      "10 : 3\n",
      "15:4\n",
      "15 : 4\n",
      "20:1\n",
      "20 : 1\n",
      "25:2\n",
      "25 : 2\n",
      "30:3\n",
      "30 : 3\n",
      "35:4\n",
      "35 : 4\n",
      "40:1\n",
      "40 : 1\n",
      "45:2\n",
      "45 : 2\n",
      "50:3\n",
      "50 : 3\n",
      "55:4\n",
      "55 : 4\n"
     ]
    }
   ],
   "source": [
    "a = np.arange(0,60,5) \n",
    "a = a.reshape(3,4) \n",
    "\n",
    "print ('The First array :') \n",
    "print (a)\n",
    "print ('\\n')\n",
    "\n",
    "print ('The Second array is') \n",
    "b = np.array([1, 2, 3, 4], dtype = int) \n",
    "print (b)  \n",
    "print ('\\n' )\n",
    "\n",
    "print ('The Modified array is') \n",
    "for x,y in np.nditer([a,b]): \n",
    "    print (\"%d:%d\" %(x,y))\n",
    "    print (x,\":\",y)"
   ]
  },
  {
   "cell_type": "code",
   "execution_count": 5,
   "id": "b8fe13ad",
   "metadata": {},
   "outputs": [
    {
     "name": "stdout",
     "output_type": "stream",
     "text": [
      "The Original array is:\n",
      "[[ 0  6 12]\n",
      " [18 24 30]\n",
      " [36 42 48]]\n",
      "\n",
      "\n",
      "The Modified array is:\n",
      "[[ 2  8 14]\n",
      " [20 26 32]\n",
      " [38 44 50]]\n"
     ]
    }
   ],
   "source": [
    "\n",
    "a = np.arange(0,50,6)\n",
    "a = a.reshape(3,3)\n",
    "print ('The Original array is:')\n",
    "print (a)\n",
    "print ('\\n')\n",
    "for x in np.nditer(a, op_flags = ['readwrite']):\n",
    "    # modifying the value of array elements\n",
    "    x[...] = 2+x\n",
    "print ('The Modified array is:')\n",
    "print (a)"
   ]
  },
  {
   "cell_type": "code",
   "execution_count": 6,
   "id": "8d273f76",
   "metadata": {},
   "outputs": [],
   "source": [
    "a = a + 2"
   ]
  },
  {
   "cell_type": "code",
   "execution_count": 7,
   "id": "5b4ecc28",
   "metadata": {},
   "outputs": [
    {
     "data": {
      "text/plain": [
       "array([[ 4, 10, 16],\n",
       "       [22, 28, 34],\n",
       "       [40, 46, 52]])"
      ]
     },
     "execution_count": 7,
     "metadata": {},
     "output_type": "execute_result"
    }
   ],
   "source": [
    "a"
   ]
  },
  {
   "cell_type": "code",
   "execution_count": null,
   "id": "b1db5164",
   "metadata": {},
   "outputs": [],
   "source": []
  }
 ],
 "metadata": {
  "kernelspec": {
   "display_name": "Python 3",
   "language": "python",
   "name": "python3"
  },
  "language_info": {
   "codemirror_mode": {
    "name": "ipython",
    "version": 3
   },
   "file_extension": ".py",
   "mimetype": "text/x-python",
   "name": "python",
   "nbconvert_exporter": "python",
   "pygments_lexer": "ipython3",
   "version": "3.8.8"
  }
 },
 "nbformat": 4,
 "nbformat_minor": 5
}
