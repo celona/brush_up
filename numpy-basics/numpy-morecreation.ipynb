{
 "cells": [
  {
   "cell_type": "code",
   "execution_count": 1,
   "id": "23c28f87",
   "metadata": {},
   "outputs": [
    {
     "name": "stdout",
     "output_type": "stream",
     "text": [
      "The ndarray is :\n",
      "[0 1 2 3 4 5 6 7 8 9]\n",
      "After applying slice() Function:\n",
      "[2 4 6]\n"
     ]
    }
   ],
   "source": [
    "import numpy as np \n",
    "\n",
    "a = np.arange(10) \n",
    "print(\"The ndarray is :\")\n",
    "print(a)\n",
    "\n",
    "s = slice(2,7,2) \n",
    "print(\"After applying slice() Function:\")\n",
    "print (a[s])"
   ]
  },
  {
   "cell_type": "code",
   "execution_count": 2,
   "id": "9925c3c2",
   "metadata": {},
   "outputs": [
    {
     "name": "stdout",
     "output_type": "stream",
     "text": [
      "The array is :\n",
      "[ 0  1  2  3  4  5  6  7  8  9 10 11 12 13 14]\n",
      "The Eighth item in the array is :\n",
      "7\n"
     ]
    }
   ],
   "source": [
    "a = np.arange(15)\n",
    "print(\"The array is :\")\n",
    "print(a)\n",
    "# using the index directly\n",
    "b = a[7] \n",
    "print(\"The Eighth item in the array is :\")\n",
    "print (b)"
   ]
  },
  {
   "cell_type": "code",
   "execution_count": 1,
   "id": "701f5974",
   "metadata": {},
   "outputs": [
    {
     "name": "stdout",
     "output_type": "stream",
     "text": [
      "The array is :\n",
      "[ 0  1  2  3  4  5  6  7  8  9 10 11 12 13 14 15 16 17 18 19]\n",
      "Slicing of items starting from the index:\n",
      "[ 2  3  4  5  6  7  8  9 10 11 12 13 14 15 16 17 18 19]\n"
     ]
    }
   ],
   "source": [
    "import numpy as np\n",
    " \n",
    "a = np.arange(20) \n",
    "print(\"The array is :\");\n",
    "print(a)\n",
    "\n",
    "print(\"Slicing of items starting from the index:\")\n",
    "print (a[2:])"
   ]
  },
  {
   "cell_type": "code",
   "execution_count": 2,
   "id": "f2ec0f85",
   "metadata": {},
   "outputs": [
    {
     "name": "stdout",
     "output_type": "stream",
     "text": [
      "The array is :\n",
      "[ 0  1  2  3  4  5  6  7  8  9 10 11 12 13 14 15 16 17 18 19]\n",
      "Slicing of items starting from the index:\n",
      "[2 3 4 5 6 7]\n"
     ]
    }
   ],
   "source": [
    "\n",
    " \n",
    "a = np.arange(20) \n",
    "print(\"The array is :\");\n",
    "print(a)\n",
    "\n",
    "print(\"Slicing of items starting from the index:\")\n",
    "print (a[2:8])"
   ]
  },
  {
   "cell_type": "code",
   "execution_count": 3,
   "id": "55b22c63",
   "metadata": {},
   "outputs": [
    {
     "name": "stdout",
     "output_type": "stream",
     "text": [
      "The array is :\n",
      "[[11  2 23]\n",
      " [33 44  5]\n",
      " [84 25 16]]\n",
      "\n",
      "\n",
      "The items in the second column are:\n",
      "[ 2 44 25]\n",
      "\n",
      "\n",
      "The items in the second row are:\n",
      "[33 44  5]\n",
      "\n",
      "\n",
      "The items onwards to column 1 are:\n",
      "[[ 2 23]\n",
      " [44  5]\n",
      " [25 16]]\n"
     ]
    }
   ],
   "source": [
    "a = np.array([[11,2,23],[33,44,5],[84,25,16]]) \n",
    "\n",
    "print (\"The array is :\") \n",
    "print (a )\n",
    "print ('\\n')\n",
    "\n",
    "#To return array of items in the second column \n",
    "print ('The items in the second column are:')  \n",
    "print (a[..., 1] )\n",
    "print ('\\n')\n",
    "\n",
    "# In order to slice all items from the second row \n",
    "print ('The items in the second row are:') \n",
    "print (a[1, ...])\n",
    "print ('\\n') \n",
    "\n",
    "# In order to slice all items from column 1 onwards \n",
    "print ('The items onwards to column 1 are:' )\n",
    "print (a[..., 1:])"
   ]
  },
  {
   "cell_type": "raw",
   "id": "05dff4fa",
   "metadata": {},
   "source": []
  }
 ],
 "metadata": {
  "kernelspec": {
   "display_name": "Python 3",
   "language": "python",
   "name": "python3"
  },
  "language_info": {
   "codemirror_mode": {
    "name": "ipython",
    "version": 3
   },
   "file_extension": ".py",
   "mimetype": "text/x-python",
   "name": "python",
   "nbconvert_exporter": "python",
   "pygments_lexer": "ipython3",
   "version": "3.8.8"
  }
 },
 "nbformat": 4,
 "nbformat_minor": 5
}
