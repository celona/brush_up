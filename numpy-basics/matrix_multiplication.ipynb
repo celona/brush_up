{
 "cells": [
  {
   "cell_type": "code",
   "execution_count": 1,
   "id": "76267897",
   "metadata": {},
   "outputs": [
    {
     "name": "stdout",
     "output_type": "stream",
     "text": [
      "A is:\n",
      " [[[11  2 23]\n",
      "  [14 75  6]\n",
      "  [17  8  9]]]\n",
      "B is:\n",
      " [[[9 8 7]\n",
      "  [6 5 4]\n",
      "  [3 2 1]]]\n",
      "The resultant matrix is :\n",
      "[[[ 99  16 161]\n",
      "  [ 84 375  24]\n",
      "  [ 51  16   9]]]\n"
     ]
    }
   ],
   "source": [
    "import numpy as np  \n",
    "\n",
    "a = np.array([[11,2,23],[14,75,6],[17,8,9]], ndmin=3) \n",
    "print(\"A is:\\n\",a)\n",
    "\n",
    "b = np.array([[9,8,7],[6,5,4],[3,2,1]], ndmin=3)    \n",
    "print(\"B is:\\n\",b)\n",
    "\n",
    "out = np.multiply(a,b)  \n",
    "print(\"The resultant matrix is :\")\n",
    "print(out)"
   ]
  },
  {
   "cell_type": "code",
   "execution_count": 2,
   "id": "527bba91",
   "metadata": {},
   "outputs": [
    {
     "name": "stdout",
     "output_type": "stream",
     "text": [
      "Matrix A is:\n",
      " [[1 2 3]\n",
      " [4 5 6]\n",
      " [1 2 1]]\n",
      "Matrix A is:\n",
      " [[1 1 1]\n",
      " [0 1 0]\n",
      " [1 1 1]]\n",
      "The Matrix multiplication of matrix A and B is:\n",
      " [[ 4  6  4]\n",
      " [10 15 10]\n",
      " [ 2  4  2]]\n"
     ]
    }
   ],
   "source": [
    "import numpy as np\n",
    "\n",
    "A = np.array([[1,2,3], [4,5,6],[1,2,1]])\n",
    "B = np.array([[1,1,1], [0,1,0], [1,1,1]])\n",
    "\n",
    "print(\"Matrix A is:\\n\",A)\n",
    "print(\"Matrix A is:\\n\",B)\n",
    "\n",
    "C = np.matmul(A,B)\n",
    "print(\"The Matrix multiplication of matrix A and B is:\\n\",C)\n"
   ]
  },
  {
   "cell_type": "code",
   "execution_count": 3,
   "id": "ad2eb9ab",
   "metadata": {},
   "outputs": [
    {
     "name": "stdout",
     "output_type": "stream",
     "text": [
      "A is [[1, 4], [2, 1]]\n",
      "B is [1, 2]\n",
      "AxB is\n",
      "[9 4]\n",
      "BxA is \n",
      "[5 6]\n"
     ]
    }
   ],
   "source": [
    "import numpy.matlib \n",
    "import numpy as np \n",
    "\n",
    "a = [[1,4],[2,1]] \n",
    "print(\"A is\",a)\n",
    "b = [1,2]\n",
    "print(\"B is\",b)\n",
    "print(\"AxB is\")\n",
    "print(np.matmul(a,b))\n",
    "print(\"BxA is \")\n",
    "print (np.matmul(b,a))"
   ]
  },
  {
   "cell_type": "code",
   "execution_count": 4,
   "id": "359ac37f",
   "metadata": {},
   "outputs": [
    {
     "name": "stdout",
     "output_type": "stream",
     "text": [
      "Matrix A is:\n",
      " [7 9 8]\n",
      "Matrix A is:\n",
      " [2 5 6]\n",
      "Dot product of matrix A and B is:\n",
      " 107\n"
     ]
    }
   ],
   "source": [
    "import numpy as np\n",
    "\n",
    "A = np.array([7,9,8])\n",
    "B = np.array([2,5,6])\n",
    "print(\"Matrix A is:\\n\", A)\n",
    "print(\"Matrix A is:\\n\", B)\n",
    "\n",
    "C = np.dot(A,B)\n",
    "print(\"Dot product of matrix A and B is:\\n\", C)"
   ]
  },
  {
   "cell_type": "code",
   "execution_count": 5,
   "id": "0e532775",
   "metadata": {},
   "outputs": [
    {
     "name": "stdout",
     "output_type": "stream",
     "text": [
      "Matrix A is:\n",
      " [[1 4]\n",
      " [3 1]]\n",
      "Matrix A is:\n",
      " [[4 5]\n",
      " [6 5]]\n",
      "Matrix multiplication of matrix A and B is:\n",
      " [[28 25]\n",
      " [18 20]]\n"
     ]
    }
   ],
   "source": [
    "import numpy as np\n",
    "\n",
    "A = np.array([[1,4],[3,1]])\n",
    "B = np.array([[4,5],[6,5]])\n",
    "print(\"Matrix A is:\\n\", A)\n",
    "print(\"Matrix A is:\\n\", B)\n",
    "\n",
    "C = np.dot(A, B)\n",
    "print(\"Matrix multiplication of matrix A and B is:\\n\", C)"
   ]
  },
  {
   "cell_type": "code",
   "execution_count": 6,
   "id": "58c773b4",
   "metadata": {},
   "outputs": [
    {
     "name": "stdout",
     "output_type": "stream",
     "text": [
      "Matrix A is:\n",
      " [[2 4]\n",
      " [3 5]]\n",
      "Matrix multiplication of matrix A with scalar :\n",
      " [[ 6 12]\n",
      " [ 9 15]]\n"
     ]
    }
   ],
   "source": [
    "A = np.array([[2,4],[3,5]])\n",
    "print(\"Matrix A is:\\n\", A)\n",
    "C = np.dot(3, A)\n",
    "print(\"Matrix multiplication of matrix A with scalar :\\n\", C)"
   ]
  },
  {
   "cell_type": "code",
   "execution_count": null,
   "id": "4dc08fda",
   "metadata": {},
   "outputs": [],
   "source": []
  }
 ],
 "metadata": {
  "kernelspec": {
   "display_name": "Python 3",
   "language": "python",
   "name": "python3"
  },
  "language_info": {
   "codemirror_mode": {
    "name": "ipython",
    "version": 3
   },
   "file_extension": ".py",
   "mimetype": "text/x-python",
   "name": "python",
   "nbconvert_exporter": "python",
   "pygments_lexer": "ipython3",
   "version": "3.8.8"
  }
 },
 "nbformat": 4,
 "nbformat_minor": 5
}
