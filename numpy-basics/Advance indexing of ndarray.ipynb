{
 "cells": [
  {
   "cell_type": "code",
   "execution_count": 1,
   "id": "acb16291",
   "metadata": {},
   "outputs": [
    {
     "name": "stdout",
     "output_type": "stream",
     "text": [
      "The array used for Integer Indexing\n",
      "[[11 28]\n",
      " [23 84]\n",
      " [95 56]]\n",
      "The Output is:\n",
      "[11 23 56]\n"
     ]
    }
   ],
   "source": [
    "import numpy as np \n",
    "\n",
    "x = np.array([[11, 28], [23, 84], [95, 56]]) \n",
    "print (\"The array used for Integer Indexing\")\n",
    "print(x)\n",
    "\n",
    "y = x[[0,1,2], [0,0,1]] \n",
    "print(\"The Output is:\")\n",
    "print(y) "
   ]
  },
  {
   "cell_type": "code",
   "execution_count": 2,
   "id": "946881d0",
   "metadata": {},
   "outputs": [
    {
     "name": "stdout",
     "output_type": "stream",
     "text": [
      "The array used for Integer Indexing\n",
      "[[11 28]\n",
      " [23 84]\n",
      " [95 56]]\n",
      "The Output is:\n",
      "[11 23 56]\n"
     ]
    }
   ],
   "source": [
    "x = np.array([[11, 28], [23, 84], [95, 56]]) \n",
    "print (\"The array used for Integer Indexing\")\n",
    "print(x)\n",
    "\n",
    "y = x[[0,1,2], [0,0,1]] \n",
    "print(\"The Output is:\")\n",
    "print(y) "
   ]
  },
  {
   "cell_type": "code",
   "execution_count": 3,
   "id": "bc882b67",
   "metadata": {},
   "outputs": [
    {
     "name": "stdout",
     "output_type": "stream",
     "text": [
      "The array is:\n",
      "[[10 81  2]\n",
      " [ 3 43 35]\n",
      " [63 72  8]\n",
      " [92 10 11]]\n",
      "The corner elements of the array are:\n",
      "[[10  2]\n",
      " [92 11]]\n"
     ]
    }
   ],
   "source": [
    "x = np.array([[10, 81, 2], [3, 43, 35], [63, 72, 8], [92, 10, 11]]) \n",
    "\n",
    "# [10, 81, 2]\n",
    "# [ 3, 43, 35]\n",
    "# [62, 72, 8]\n",
    "# [92, 10, 11]\n",
    "# so corener elements are 10, 2, 92 and 11\n",
    "   \n",
    "print ('The array is:') \n",
    "print (x)\n",
    "\n",
    "# picking the 1st and last row\n",
    "rows = np.array([[0], [3]])\n",
    "# picking 0 index and 2nd index element from each row\n",
    "cols = np.array([[0, 2], [0, 2]])\n",
    "y = x[rows, cols] \n",
    "   \n",
    "print ('The corner elements of the array are:') \n",
    "print (y)"
   ]
  },
  {
   "cell_type": "code",
   "execution_count": 4,
   "id": "5003bbe7",
   "metadata": {},
   "outputs": [
    {
     "name": "stdout",
     "output_type": "stream",
     "text": [
      "The array is:\n",
      "[[11  1 12]\n",
      " [31  4 15]\n",
      " [ 6 37  8]\n",
      " [91 10 11]]\n",
      "After slicing the array becomes:\n",
      "[[ 4 15]\n",
      " [37  8]\n",
      " [10 11]]\n",
      "After Slicing using advance index for column:\n",
      "[[ 4 15]\n",
      " [37  8]\n",
      " [10 11]]\n"
     ]
    }
   ],
   "source": [
    "x = np.array([[11, 1, 12], [31, 4, 15], [6, 37, 8], [91, 10, 11]]) \n",
    "\n",
    "print(\"The array is:\")\n",
    "print(x)\n",
    "# Using basic slicing\n",
    "z = x[1:4, 1:3] \n",
    "\n",
    "print('After slicing the array becomes:')\n",
    "print(z)\n",
    "\n",
    "# using advanced indexing for column \n",
    "y = x[1:4, [1,2]] \n",
    "\n",
    "print('After Slicing using advance index for column:')\n",
    "print(y)"
   ]
  },
  {
   "cell_type": "code",
   "execution_count": 5,
   "id": "f9eef434",
   "metadata": {},
   "outputs": [
    {
     "name": "stdout",
     "output_type": "stream",
     "text": [
      "The array is:\n",
      "[[11 51  2]\n",
      " [23 24  5]\n",
      " [16 47  8]\n",
      " [91 10 11]]\n",
      "The items greater than 11 are:\n",
      "[51 23 24 16 47 91]\n"
     ]
    }
   ],
   "source": [
    "#BOOLEAN indexing\n",
    "\n",
    "x = np.array([[11, 51, 2],[23, 24, 5], [16, 47, 8] ,[91, 10, 11]]) \n",
    "\n",
    "print(\"The array is:\")\n",
    "print(x)\n",
    "\n",
    "# Now we will print the items greater than 11\n",
    "print(\"The items greater than 11 are:\")\n",
    "print(x[x>11])"
   ]
  },
  {
   "cell_type": "code",
   "execution_count": 6,
   "id": "fe33d643",
   "metadata": {},
   "outputs": [
    {
     "name": "stdout",
     "output_type": "stream",
     "text": [
      "After omitting NaN the output array is :\n",
      "[ 1. 12.  3. 41. 54.]\n"
     ]
    }
   ],
   "source": [
    "a = np.array([np.nan, 1, 12, np.nan, 3, 41, 54]) \n",
    "\n",
    "print(\"After omitting NaN the output array is :\")\n",
    "print (a[~np.isnan(a)])"
   ]
  },
  {
   "cell_type": "code",
   "execution_count": 7,
   "id": "071bf300",
   "metadata": {},
   "outputs": [
    {
     "name": "stdout",
     "output_type": "stream",
     "text": [
      "After Filtering the non-complex numbers :\n",
      "[2. +6.j 3.5+5.j]\n"
     ]
    }
   ],
   "source": [
    "\n",
    "a = np.array([1, 2+6j, 5, 3.5+5j]) \n",
    "\n",
    "print(\"After Filtering the non-complex numbers :\")\n",
    "print (a[np.iscomplex(a)])"
   ]
  },
  {
   "cell_type": "code",
   "execution_count": null,
   "id": "07f917c9",
   "metadata": {},
   "outputs": [],
   "source": []
  },
  {
   "cell_type": "code",
   "execution_count": null,
   "id": "ec168b5f",
   "metadata": {},
   "outputs": [],
   "source": []
  }
 ],
 "metadata": {
  "kernelspec": {
   "display_name": "Python 3",
   "language": "python",
   "name": "python3"
  },
  "language_info": {
   "codemirror_mode": {
    "name": "ipython",
    "version": 3
   },
   "file_extension": ".py",
   "mimetype": "text/x-python",
   "name": "python",
   "nbconvert_exporter": "python",
   "pygments_lexer": "ipython3",
   "version": "3.8.8"
  }
 },
 "nbformat": 4,
 "nbformat_minor": 5
}
