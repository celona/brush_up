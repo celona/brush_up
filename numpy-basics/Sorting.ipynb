{
 "cells": [
  {
   "cell_type": "code",
   "execution_count": 1,
   "id": "35de6e1b",
   "metadata": {},
   "outputs": [],
   "source": [
    "# Various Sorting Algorithms\n",
    "\n",
    "# Various sorting algorithms along with their properties that are used are as given below:\n",
    "# Serial No. \tKind \tWorst case Complexity \tSpeed \tStable \tWork Space\n",
    "# 1. \t'quicksort' \tO(n^2) \t1 \tNo \t0\n",
    "# 2. \t'heapsort' \tO(n*log(n)) \t3 \tNo \t0\n",
    "# 3. \t'mergesort' \tO(n*log(n)) \t2 \tYes \t-n/2\n",
    "# 4. \t'timsort' \tO(n*log(n)) \t2 \tYes \t-n/2\n",
    "\n"
   ]
  },
  {
   "cell_type": "code",
   "execution_count": 6,
   "id": "4b2c81a8",
   "metadata": {},
   "outputs": [
    {
     "name": "stdout",
     "output_type": "stream",
     "text": [
      "a : \n",
      "\n",
      "[[17 15]\n",
      " [10 25]]\n",
      "Sorting Along first axis : \n",
      "\n",
      "[[10 15]\n",
      " [17 25]]\n",
      "b : \n",
      "\n",
      "[[ 1 15]\n",
      " [20 18]]\n",
      "\n",
      "Sorting along last axis : \n",
      "\n",
      "[[ 1 15]\n",
      " [18 20]]\n",
      "c : \n",
      "\n",
      "[[12 15]\n",
      " [10  1]]\n",
      "\n",
      "Sorting Along none axis : \n",
      "\n",
      "[ 1 10 12 15]\n"
     ]
    }
   ],
   "source": [
    "import numpy as np \n",
    "\n",
    "# sorting along the first axis\n",
    "a = np.array([[17, 15], [10, 25]]) \n",
    "print (\"a : \\n\")\n",
    "print (a)\n",
    "arr1 = np.sort(a, axis = 0)\n",
    "print (\"Sorting Along first axis : \\n\")\n",
    "print(arr1)\n",
    "\n",
    "# sorting along the last axis \n",
    "b = np.array([[1, 15], [20, 18]]) \n",
    "print (\"b : \\n\")\n",
    "print (b)\n",
    "arr2 = np.sort(b, axis = -1) \n",
    "print (\"\\nSorting along last axis : \\n\")\n",
    "print(arr2) \n",
    "\n",
    "\n",
    "c = np.array([[12, 15], [10, 1]]) \n",
    "print (\"c : \\n\")\n",
    "print (c)\n",
    "arr3 = np.sort(c, axis = None) \n",
    "print (\"\\nSorting Along none axis : \\n\")\n",
    "print(arr3) "
   ]
  },
  {
   "cell_type": "code",
   "execution_count": 11,
   "id": "b10a0fc6",
   "metadata": {},
   "outputs": [
    {
     "name": "stdout",
     "output_type": "stream",
     "text": [
      "[(b'Galahad', 1.7, 38) (b'Arthur', 1.8, 41) (b'Lancelot', 1.9, 38)]\n",
      "[(b'Galahad', 1.7, 38) (b'Lancelot', 1.9, 38) (b'Arthur', 1.8, 41)]\n"
     ]
    }
   ],
   "source": [
    "dtype = [('name', 'S10'), ('height', float), ('age', int)]\n",
    "\n",
    "values = [('Arthur', 1.8, 41), ('Lancelot', 1.9, 38),\n",
    "\n",
    "          ('Galahad', 1.7, 38)]\n",
    "\n",
    "a = np.array(values, dtype=dtype)       # create a structured array\n",
    "\n",
    "a1= np.sort(a, order='height')                        \n",
    "\n",
    "print(a1)\n",
    "# Sort by age, then height if ages are equal:\n",
    "\n",
    "a2= np.sort(a, order=['age', 'height'])     \n",
    "print(a2)"
   ]
  },
  {
   "cell_type": "code",
   "execution_count": null,
   "id": "2b7d62f1",
   "metadata": {},
   "outputs": [],
   "source": []
  }
 ],
 "metadata": {
  "kernelspec": {
   "display_name": "Python 3",
   "language": "python",
   "name": "python3"
  },
  "language_info": {
   "codemirror_mode": {
    "name": "ipython",
    "version": 3
   },
   "file_extension": ".py",
   "mimetype": "text/x-python",
   "name": "python",
   "nbconvert_exporter": "python",
   "pygments_lexer": "ipython3",
   "version": "3.8.8"
  }
 },
 "nbformat": 4,
 "nbformat_minor": 5
}
